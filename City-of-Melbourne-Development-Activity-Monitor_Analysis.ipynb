{
 "cells": [
  {
   "cell_type": "code",
   "execution_count": null,
   "metadata": {},
   "outputs": [],
   "source": [
    "import pandas as pd\n",
    "import numpy as np\n",
    "import matplotlib.pyplot as plt\n",
    "\n",
    "from sklearn import metrics \n",
    "from sklearn.cluster import KMeans, AgglomerativeClustering\n",
    "from sklearn.metrics import silhouette_samples, silhouette_score, accuracy_score, classification_report\n",
    "from sklearn.metrics.cluster import contingency_matrix\n",
    "\n",
    "import warnings\n",
    "warnings.filterwarnings('ignore')\n",
    "\n",
    "df = pd.read_csv(r\"C:\\Users\\mchep\\OneDrive\\Desktop\\Projects\\City-of-Melbourne-Development-Activity-Monitor\\Data\\development-activity-monitor.csv\")"
   ]
  },
  {
   "cell_type": "markdown",
   "metadata": {},
   "source": [
    "### Analysis of Data"
   ]
  },
  {
   "cell_type": "code",
   "execution_count": null,
   "metadata": {},
   "outputs": [
    {
     "data": {
      "text/plain": [
       "(1430, 42)"
      ]
     },
     "execution_count": 2,
     "metadata": {},
     "output_type": "execute_result"
    }
   ],
   "source": [
    "# Print the shape of the dataset\n",
    "\n",
    "df.shape "
   ]
  },
  {
   "cell_type": "code",
   "execution_count": null,
   "metadata": {},
   "outputs": [
    {
     "data": {
      "text/plain": [
       "data_format                     object\n",
       "development_key                 object\n",
       "status                          object\n",
       "year_completed                 float64\n",
       "clue_small_area                 object\n",
       "clue_block                       int64\n",
       "street_address                  object\n",
       "property_id                      int64\n",
       "property_id_2                  float64\n",
       "property_id_3                  float64\n",
       "property_id_4                  float64\n",
       "property_id_5                  float64\n",
       "floors_above                     int64\n",
       "resi_dwellings                   int64\n",
       "studio_dwe                       int64\n",
       "one_bdrm_dwe                     int64\n",
       "two_bdrm_dwe                     int64\n",
       "three_bdrm_dwe                   int64\n",
       "student_apartments               int64\n",
       "student_beds                     int64\n",
       "student_accommodation_units      int64\n",
       "institutional_accom_beds         int64\n",
       "hotel_rooms                      int64\n",
       "serviced_apartments              int64\n",
       "hotels_serviced_apartments       int64\n",
       "hostel_beds                      int64\n",
       "childcare_places                 int64\n",
       "office_flr                       int64\n",
       "retail_flr                       int64\n",
       "industrial_flr                   int64\n",
       "storage_flr                      int64\n",
       "education_flr                    int64\n",
       "hospital_flr                     int64\n",
       "recreation_flr                   int64\n",
       "publicdispaly_flr                int64\n",
       "community_flr                    int64\n",
       "car_spaces                       int64\n",
       "bike_spaces                      int64\n",
       "town_planning_application       object\n",
       "longitude                      float64\n",
       "latitude                       float64\n",
       "geopoint                        object\n",
       "dtype: object"
      ]
     },
     "execution_count": 3,
     "metadata": {},
     "output_type": "execute_result"
    }
   ],
   "source": [
    "# Print the data types\n",
    "\n",
    "df.dtypes"
   ]
  },
  {
   "cell_type": "code",
   "execution_count": null,
   "metadata": {},
   "outputs": [
    {
     "name": "stdout",
     "output_type": "stream",
     "text": [
      "The unique values of the status column are:\n"
     ]
    },
    {
     "data": {
      "text/plain": [
       "array(['COMPLETED', 'APPLIED', 'APPROVED', 'UNDER CONSTRUCTION'],\n",
       "      dtype=object)"
      ]
     },
     "execution_count": 4,
     "metadata": {},
     "output_type": "execute_result"
    }
   ],
   "source": [
    "# Print all the possible values of the feature “status”.\n",
    "\n",
    "print('The unique values of the status column are:')\n",
    "df.status.unique()"
   ]
  },
  {
   "cell_type": "code",
   "execution_count": null,
   "metadata": {},
   "outputs": [
    {
     "name": "stdout",
     "output_type": "stream",
     "text": [
      "         status  percent\n",
      "0     COMPLETED    70.07\n",
      "1     COMPLETED    17.48\n",
      "2     COMPLETED     6.50\n",
      "3     COMPLETED     5.94\n",
      "4     COMPLETED      NaN\n",
      "...         ...      ...\n",
      "1425  COMPLETED      NaN\n",
      "1426  COMPLETED      NaN\n",
      "1427  COMPLETED      NaN\n",
      "1428  COMPLETED      NaN\n",
      "1429  COMPLETED      NaN\n",
      "\n",
      "[1430 rows x 2 columns]\n"
     ]
    }
   ],
   "source": [
    "# Calculate the percentage ratio of each “status” value. \n",
    "\n",
    "status = pd.DataFrame(df, columns = ['status'])\n",
    "status['percent'] = round(status['status'].value_counts()/(status['status'].count()) * 100, 2).reset_index(drop=True)\n",
    "print(status)"
   ]
  },
  {
   "cell_type": "code",
   "execution_count": null,
   "metadata": {},
   "outputs": [
    {
     "data": {
      "text/html": [
       "<div>\n",
       "<style scoped>\n",
       "    .dataframe tbody tr th:only-of-type {\n",
       "        vertical-align: middle;\n",
       "    }\n",
       "\n",
       "    .dataframe tbody tr th {\n",
       "        vertical-align: top;\n",
       "    }\n",
       "\n",
       "    .dataframe thead th {\n",
       "        text-align: right;\n",
       "    }\n",
       "</style>\n",
       "<table border=\"1\" class=\"dataframe\">\n",
       "  <thead>\n",
       "    <tr style=\"text-align: right;\">\n",
       "      <th></th>\n",
       "      <th>status</th>\n",
       "      <th>percent</th>\n",
       "    </tr>\n",
       "  </thead>\n",
       "  <tbody>\n",
       "    <tr>\n",
       "      <th>0</th>\n",
       "      <td>COMPLETED</td>\n",
       "      <td>70.07</td>\n",
       "    </tr>\n",
       "    <tr>\n",
       "      <th>1</th>\n",
       "      <td>COMPLETED</td>\n",
       "      <td>17.48</td>\n",
       "    </tr>\n",
       "    <tr>\n",
       "      <th>2</th>\n",
       "      <td>COMPLETED</td>\n",
       "      <td>6.50</td>\n",
       "    </tr>\n",
       "    <tr>\n",
       "      <th>3</th>\n",
       "      <td>COMPLETED</td>\n",
       "      <td>5.94</td>\n",
       "    </tr>\n",
       "  </tbody>\n",
       "</table>\n",
       "</div>"
      ],
      "text/plain": [
       "      status  percent\n",
       "0  COMPLETED    70.07\n",
       "1  COMPLETED    17.48\n",
       "2  COMPLETED     6.50\n",
       "3  COMPLETED     5.94"
      ]
     },
     "execution_count": 6,
     "metadata": {},
     "output_type": "execute_result"
    }
   ],
   "source": [
    "# Remove null values from percent column\n",
    "\n",
    "status.dropna()"
   ]
  },
  {
   "attachments": {},
   "cell_type": "markdown",
   "metadata": {},
   "source": [
    "### Relationship Between Suburbs and Developments with Floors Above Ground Level"
   ]
  },
  {
   "cell_type": "code",
   "execution_count": null,
   "metadata": {},
   "outputs": [
    {
     "data": {
      "image/png": "[encoded data removed]",
      "text/plain": [
       "<Figure size 640x480 with 1 Axes>"
      ]
     },
     "metadata": {},
     "output_type": "display_data"
    }
   ],
   "source": [
    "# Plot the relationship between “floors_above” and “clue_small_area”\n",
    "csa_fa = pd.DataFrame(df, columns = ['clue_small_area', 'floors_above'])\n",
    "csa_fa.plot.scatter(x=\"floors_above\", y=\"clue_small_area\", alpha=0.5)\n",
    "plt.show()"
   ]
  },
  {
   "attachments": {},
   "cell_type": "markdown",
   "metadata": {},
   "source": [
    "Results show that the Southbank and Melbourne (CBD) locations have the largest number of developments with floors above ground level.\n",
    "\n",
    "Southbank and Melbourne CBD are the central business and cultural districts of Melbourne. They attract significant commercial, residential, and entertainment activities, leading to a high demand for space. As a result, developers focus on constructing multi-story buildings to maximize land utilisation.\n",
    "\n",
    "These central areas have limited space for horizontal expansion due to their urban density. As a result, vertical development becomes a practical solution to accommodate the growing population and meet various needs."
   ]
  },
  {
   "attachments": {},
   "cell_type": "markdown",
   "metadata": {},
   "source": [
    "### Analysis of Suburbs"
   ]
  },
  {
   "cell_type": "code",
   "execution_count": null,
   "metadata": {},
   "outputs": [
    {
     "name": "stdout",
     "output_type": "stream",
     "text": [
      "clue_small_area             \n",
      "Melbourne (CBD)                 338\n",
      "Docklands                       196\n",
      "North Melbourne                 186\n",
      "Carlton                         137\n",
      "Southbank                       134\n",
      "West Melbourne (Residential)    113\n",
      "Kensington                       85\n",
      "Port Melbourne                   78\n",
      "Parkville                        61\n",
      "East Melbourne                   42\n",
      "Melbourne (Remainder)            23\n",
      "West Melbourne (Industrial)      21\n",
      "South Yarra                      16\n",
      "Name: count, dtype: int64\n"
     ]
    }
   ],
   "source": [
    "# Print the number of properties in each different suburb\n",
    "\n",
    "suburb_counts = pd.DataFrame(df, columns = ['clue_small_area']).value_counts()\n",
    "print(suburb_counts)"
   ]
  },
  {
   "attachments": {},
   "cell_type": "markdown",
   "metadata": {},
   "source": [
    "Results show there are more developments in Melbourne (CBD) than any other suburb.\n",
    "\n",
    "Melbourne CBD, Docklands, North Melbourne, Carlton, Southbank, and West Melbourne (Residential) have relatively higher counts, indicating a concentration of multi-story developments in these central and inner-city areas.\n",
    "\n",
    "Suburbs that are located in close proximity to the CBD, such as Kensington and Port Melbourne, also have notable counts, suggesting a continuation of the trend of vertical developments from the city center to its surroundings.\n",
    "\n",
    "Suburbs like Parkville and East Melbourne, known for their proximity to major educational and medical institutions, also have a significant number of developments with floors above ground level.\n",
    "\n",
    "West Melbourne (Industrial) might have fewer developments due to its industrial nature, while South Yarra, a more residential and upscale area, has a relatively lower count."
   ]
  },
  {
   "cell_type": "code",
   "execution_count": null,
   "metadata": {},
   "outputs": [
    {
     "name": "stdout",
     "output_type": "stream",
     "text": [
      "The suburb with the smallest number of properties under construction: clue_small_area\n",
      "South Yarra                    1\n",
      "West Melbourne (Industrial)    1\n",
      "Name: status, dtype: int64\n"
     ]
    }
   ],
   "source": [
    "# Print the suburb with the smallest number of developments\n",
    "\n",
    "under_construct = df.loc[df['status'] == 'UNDER CONSTRUCTION']\n",
    "under_construct = under_construct.groupby(['clue_small_area'])['status'].size().sort_values()\n",
    "under_construct = under_construct.nsmallest(2)\n",
    "print('The suburb with the smallest number of properties under construction:', under_construct)"
   ]
  },
  {
   "attachments": {},
   "cell_type": "markdown",
   "metadata": {},
   "source": [
    "### Analysis of Status Values"
   ]
  },
  {
   "cell_type": "code",
   "execution_count": null,
   "metadata": {},
   "outputs": [
    {
     "data": {
      "text/html": [
       "<div>\n",
       "<style scoped>\n",
       "    .dataframe tbody tr th:only-of-type {\n",
       "        vertical-align: middle;\n",
       "    }\n",
       "\n",
       "    .dataframe tbody tr th {\n",
       "        vertical-align: top;\n",
       "    }\n",
       "\n",
       "    .dataframe thead th {\n",
       "        text-align: right;\n",
       "    }\n",
       "</style>\n",
       "<table border=\"1\" class=\"dataframe\">\n",
       "  <thead>\n",
       "    <tr style=\"text-align: right;\">\n",
       "      <th></th>\n",
       "      <th>Year Interval</th>\n",
       "      <th>status</th>\n",
       "      <th>Count</th>\n",
       "    </tr>\n",
       "  </thead>\n",
       "  <tbody>\n",
       "    <tr>\n",
       "      <th>0</th>\n",
       "      <td>2002-2007</td>\n",
       "      <td>APPLIED</td>\n",
       "      <td>0</td>\n",
       "    </tr>\n",
       "    <tr>\n",
       "      <th>1</th>\n",
       "      <td>2002-2007</td>\n",
       "      <td>APPROVED</td>\n",
       "      <td>0</td>\n",
       "    </tr>\n",
       "    <tr>\n",
       "      <th>2</th>\n",
       "      <td>2002-2007</td>\n",
       "      <td>COMPLETED</td>\n",
       "      <td>199</td>\n",
       "    </tr>\n",
       "    <tr>\n",
       "      <th>3</th>\n",
       "      <td>2002-2007</td>\n",
       "      <td>UNDER CONSTRUCTION</td>\n",
       "      <td>0</td>\n",
       "    </tr>\n",
       "    <tr>\n",
       "      <th>4</th>\n",
       "      <td>2008-2013</td>\n",
       "      <td>APPLIED</td>\n",
       "      <td>0</td>\n",
       "    </tr>\n",
       "    <tr>\n",
       "      <th>5</th>\n",
       "      <td>2008-2013</td>\n",
       "      <td>APPROVED</td>\n",
       "      <td>0</td>\n",
       "    </tr>\n",
       "    <tr>\n",
       "      <th>6</th>\n",
       "      <td>2008-2013</td>\n",
       "      <td>COMPLETED</td>\n",
       "      <td>309</td>\n",
       "    </tr>\n",
       "    <tr>\n",
       "      <th>7</th>\n",
       "      <td>2008-2013</td>\n",
       "      <td>UNDER CONSTRUCTION</td>\n",
       "      <td>0</td>\n",
       "    </tr>\n",
       "    <tr>\n",
       "      <th>8</th>\n",
       "      <td>2014-2019</td>\n",
       "      <td>APPLIED</td>\n",
       "      <td>0</td>\n",
       "    </tr>\n",
       "    <tr>\n",
       "      <th>9</th>\n",
       "      <td>2014-2019</td>\n",
       "      <td>APPROVED</td>\n",
       "      <td>0</td>\n",
       "    </tr>\n",
       "    <tr>\n",
       "      <th>10</th>\n",
       "      <td>2014-2019</td>\n",
       "      <td>COMPLETED</td>\n",
       "      <td>246</td>\n",
       "    </tr>\n",
       "    <tr>\n",
       "      <th>11</th>\n",
       "      <td>2014-2019</td>\n",
       "      <td>UNDER CONSTRUCTION</td>\n",
       "      <td>0</td>\n",
       "    </tr>\n",
       "    <tr>\n",
       "      <th>12</th>\n",
       "      <td>2019-2023</td>\n",
       "      <td>APPLIED</td>\n",
       "      <td>0</td>\n",
       "    </tr>\n",
       "    <tr>\n",
       "      <th>13</th>\n",
       "      <td>2019-2023</td>\n",
       "      <td>APPROVED</td>\n",
       "      <td>0</td>\n",
       "    </tr>\n",
       "    <tr>\n",
       "      <th>14</th>\n",
       "      <td>2019-2023</td>\n",
       "      <td>COMPLETED</td>\n",
       "      <td>204</td>\n",
       "    </tr>\n",
       "    <tr>\n",
       "      <th>15</th>\n",
       "      <td>2019-2023</td>\n",
       "      <td>UNDER CONSTRUCTION</td>\n",
       "      <td>0</td>\n",
       "    </tr>\n",
       "  </tbody>\n",
       "</table>\n",
       "</div>"
      ],
      "text/plain": [
       "   Year Interval              status  Count\n",
       "0      2002-2007             APPLIED      0\n",
       "1      2002-2007            APPROVED      0\n",
       "2      2002-2007           COMPLETED    199\n",
       "3      2002-2007  UNDER CONSTRUCTION      0\n",
       "4      2008-2013             APPLIED      0\n",
       "5      2008-2013            APPROVED      0\n",
       "6      2008-2013           COMPLETED    309\n",
       "7      2008-2013  UNDER CONSTRUCTION      0\n",
       "8      2014-2019             APPLIED      0\n",
       "9      2014-2019            APPROVED      0\n",
       "10     2014-2019           COMPLETED    246\n",
       "11     2014-2019  UNDER CONSTRUCTION      0\n",
       "12     2019-2023             APPLIED      0\n",
       "13     2019-2023            APPROVED      0\n",
       "14     2019-2023           COMPLETED    204\n",
       "15     2019-2023  UNDER CONSTRUCTION      0"
      ]
     },
     "execution_count": 10,
     "metadata": {},
     "output_type": "execute_result"
    }
   ],
   "source": [
    "# Print the count of different status values for different year groups (based on 5 year intervals).\n",
    "\n",
    "status_value = pd.DataFrame(df, columns = ['year_completed', 'status'])\n",
    "status_value['Year Interval'] = pd.cut(status_value['year_completed'], bins=range(2002, 2023, 5), labels=['2002-2007', '2008-2013', '2014-2019', '2019-2023'])\n",
    "status_value_counts = status_value.groupby(['Year Interval', 'status']).size().reset_index(name='Count')\n",
    "status_value_counts"
   ]
  },
  {
   "cell_type": "code",
   "execution_count": null,
   "metadata": {},
   "outputs": [
    {
     "data": {
      "text/plain": [
       "<Axes: xlabel='Year Interval'>"
      ]
     },
     "execution_count": 11,
     "metadata": {},
     "output_type": "execute_result"
    },
    {
     "data": {
      "image/png": "[encoded data removed]",
      "text/plain": [
       "<Figure size 640x480 with 1 Axes>"
      ]
     },
     "metadata": {},
     "output_type": "display_data"
    }
   ],
   "source": [
    "# Visualise the distribution of values across the different year groups\n",
    "\n",
    "pivot_table = pd.pivot_table(status_value_counts, values='Count', index='Year Interval', columns='status')\n",
    "pivot_table.plot(kind='bar', alpha=0.5)"
   ]
  },
  {
   "cell_type": "markdown",
   "metadata": {},
   "source": [
    "### Analysis Using Clustering"
   ]
  },
  {
   "cell_type": "code",
   "execution_count": 2,
   "metadata": {},
   "outputs": [
    {
     "ename": "NameError",
     "evalue": "name 'cpu_count_physical' is not defined",
     "output_type": "error",
     "traceback": [
      "\u001b[1;31m---------------------------------------------------------------------------\u001b[0m",
      "\u001b[1;31mNameError\u001b[0m                                 Traceback (most recent call last)",
      "Cell \u001b[1;32mIn[2], line 1\u001b[0m\n\u001b[1;32m----> 1\u001b[0m \u001b[39mprint\u001b[39m(cpu_count_physical)\n\u001b[0;32m      2\u001b[0m \u001b[39mraise\u001b[39;00m \u001b[39mValueError\u001b[39;00m(\u001b[39mf\u001b[39m\u001b[39m\"\u001b[39m\u001b[39mfound \u001b[39m\u001b[39m{\u001b[39;00mcpu_count_physical\u001b[39m}\u001b[39;00m\u001b[39m physical cores < 1\u001b[39m\u001b[39m\"\u001b[39m)\n",
      "\u001b[1;31mNameError\u001b[0m: name 'cpu_count_physical' is not defined"
     ]
    }
   ],
   "source": [
    "print(cpu_count_physical)\n",
    "raise ValueError(f\"found {cpu_count_physical} physical cores < 1\")"
   ]
  },
  {
   "cell_type": "code",
   "execution_count": null,
   "metadata": {},
   "outputs": [
    {
     "name": "stderr",
     "output_type": "stream",
     "text": [
      "  File \"c:\\Users\\mchep\\anaconda3\\envs\\my_env2\\Lib\\site-packages\\joblib\\externals\\loky\\backend\\context.py\", line 282, in _count_physical_cores\n",
      "    raise ValueError(f\"found {cpu_count_physical} physical cores < 1\")\n"
     ]
    },
    {
     "data": {
      "image/png": "[encoded data removed]",
      "text/plain": [
       "<Figure size 640x480 with 1 Axes>"
      ]
     },
     "metadata": {},
     "output_type": "display_data"
    }
   ],
   "source": [
    "# Create a new df without clue_small_area\n",
    "# Perform clustering on developments and determine the number of clusters\n",
    "\n",
    "d = df.drop(columns=[\"clue_small_area\"])\n",
    "\n",
    "cols = [\"year_completed\", \"data_format\", \"status\", \"street_address\", \"town_planning_application\", \"street_address\", \"development_key\", \"geopoint\"]\n",
    "\n",
    "d[\"latitude\"] = d[\"latitude\"].astype(float)\n",
    "\n",
    "d = d.drop(columns=cols)\n",
    "d = d.replace(np.nan, 0)\n",
    "\n",
    "# Calculate silhouette coefficient for different values of k\n",
    "silhouette_scores = []\n",
    "for k in range(2, 50):\n",
    "    kmeans = KMeans(n_clusters=k, random_state=0)\n",
    "    cluster_labels = kmeans.fit_predict(d)\n",
    "    silhouette_scores.append(silhouette_score(d, cluster_labels))\n",
    "\n",
    "# Plot silhouette coefficient scores for different values of k\n",
    "plt.plot(range(2, 50), silhouette_scores)\n",
    "plt.xlabel('Number of clusters (k)')\n",
    "plt.ylabel('Silhouette Coefficient')\n",
    "plt.show()"
   ]
  },
  {
   "cell_type": "code",
   "execution_count": null,
   "metadata": {},
   "outputs": [
    {
     "name": "stdout",
     "output_type": "stream",
     "text": [
      "Number of suburbs: 13\n",
      "Optimum value of k: 7\n"
     ]
    }
   ],
   "source": [
    "# Determine the optimum value of k\n",
    "unique_count = df['clue_small_area'].nunique()\n",
    "optimal_k = np.argmax(silhouette_scores) + 2\n",
    "print(\"Number of suburbs:\", unique_count)\n",
    "print(\"Optimum value of k: {}\".format(optimal_k))"
   ]
  },
  {
   "attachments": {},
   "cell_type": "markdown",
   "metadata": {},
   "source": [
    "The optimum value of k is the number of clusters that best fits the data. In this case, the analysis suggests that the best value for k is determined to be 7.\n",
    "\n",
    "Results show the optimum value of k is 7 is not equal to the number of suburbs in the clue_small_area feature."
   ]
  },
  {
   "cell_type": "markdown",
   "metadata": {},
   "source": [
    "### K-Means Clustering"
   ]
  },
  {
   "cell_type": "code",
   "execution_count": null,
   "metadata": {},
   "outputs": [
    {
     "name": "stdout",
     "output_type": "stream",
     "text": [
      "Kmeans Purity Score: 0.341\n"
     ]
    }
   ],
   "source": [
    "# Class Matrix\n",
    "y_true = df['clue_small_area'].values\n",
    "\n",
    "# Perform K-means clustering with optimal_k value\n",
    "kmeans = KMeans(n_clusters=optimal_k)\n",
    "y_pred_km = kmeans.fit_predict(d)\n",
    "\n",
    "# Add the y_pred cluster labels as new column in the dataframe\n",
    "d['y_pred'] = y_pred_km\n",
    "\n",
    "# Calculate Purity Score\n",
    "def purity_score(y_true, y_pred):\n",
    "    contingency_matrix = metrics.cluster.contingency_matrix(y_true, y_pred)\n",
    "    return np.sum(np.amax(contingency_matrix, axis=0)) / np.sum(contingency_matrix) \n",
    "\n",
    "print('Kmeans Purity Score: %0.3f' % purity_score(y_true, y_pred_km))"
   ]
  },
  {
   "cell_type": "markdown",
   "metadata": {},
   "source": [
    "The K-means Purity Score is a measure used to evaluate the quality of clusters created by the K-means clustering algorithm in unsupervised machine learning. \n",
    "\n",
    "K-means Purity Score of 0.341 indicates that the clustering results are moderately aligned with the true class labels."
   ]
  },
  {
   "attachments": {},
   "cell_type": "markdown",
   "metadata": {},
   "source": [
    "### Analysis of Different Distance Metrics for K-Means 12"
   ]
  },
  {
   "cell_type": "code",
   "execution_count": null,
   "metadata": {},
   "outputs": [
    {
     "name": "stdout",
     "output_type": "stream",
     "text": [
      "The purity score for Euclidean distance is 33.5%\n",
      "The purity score for Chebyshev distance is 34.41%\n",
      "The purity score for Manhattan distance is 33.57%\n"
     ]
    }
   ],
   "source": [
    "from pyclustering.cluster.kmeans import kmeans\n",
    "from pyclustering.utils.metric import distance_metric, type_metric\n",
    "from pyclustering.cluster.center_initializer import random_center_initializer\n",
    "from pyclustering.cluster.encoder import type_encoding\n",
    "from pyclustering.cluster.encoder import cluster_encoder\n",
    "\n",
    "# Features\n",
    "features = d.values\n",
    "\n",
    "# Prepare initial centers\n",
    "initial_centers = random_center_initializer(features, optimal_k, random_state=5).initialize()\n",
    "\n",
    "# Create metric that will be used for clustering\n",
    "metric_e = distance_metric(type_metric.EUCLIDEAN)\n",
    "metric_c = distance_metric(type_metric.CHEBYSHEV)\n",
    "metric_m = distance_metric(type_metric.MANHATTAN)\n",
    "\n",
    "# Create instance of K-Means algorithm with prepared centers\n",
    "kmeans_e = kmeans(features, initial_centers=initial_centers, metric=metric_e)\n",
    "kmeans_c = kmeans(features, initial_centers=initial_centers, metric=metric_c)\n",
    "kmeans_m = kmeans(features, initial_centers=initial_centers, metric=metric_m)\n",
    "\n",
    "#Run cluster analysis\n",
    "kmeans_e.process()\n",
    "kmeans_c.process()\n",
    "kmeans_m.process()\n",
    "\n",
    "# Obtain cluster labels for the data points\n",
    "cluster_labels_e = kmeans_e.get_clusters()\n",
    "cluster_labels_c = kmeans_c.get_clusters()\n",
    "cluster_labels_m = kmeans_m.get_clusters()\n",
    "\n",
    "# Enumerate encoding type to index labeling to get labels\n",
    "pyEncoding_e = kmeans_e.get_cluster_encoding()\n",
    "pyEncoder_e = cluster_encoder(pyEncoding_e, cluster_labels_e, features)\n",
    "pyLabels_e = pyEncoder_e.set_encoding(0).get_clusters()\n",
    "\n",
    "pyEncoding_c = kmeans_c.get_cluster_encoding()\n",
    "pyEncoder_c = cluster_encoder(pyEncoding_c, cluster_labels_c, features)\n",
    "pyLabels_c = pyEncoder_c.set_encoding(0).get_clusters()\n",
    "\n",
    "pyEncoding_m = kmeans_m.get_cluster_encoding()\n",
    "pyEncoder_m = cluster_encoder(pyEncoding_m, cluster_labels_m, features)\n",
    "pyLabels_m = pyEncoder_m.set_encoding(0).get_clusters()\n",
    "\n",
    "# Report Purity Score\n",
    "purity = purity_score(y_true, pyLabels_e)\n",
    "print(f\"The purity score for Euclidean distance is {round(purity*100, 2)}%\")\n",
    "\n",
    "# Report Purity Score\n",
    "purity = purity_score(y_true, pyLabels_c)\n",
    "print(f\"The purity score for Chebyshev distance is {round(purity*100, 2)}%\")\n",
    "\n",
    "# Report Purity Score\n",
    "purity = purity_score(y_true, pyLabels_m)\n",
    "print(f\"The purity score for Manhattan distance is {round(purity*100, 2)}%\")"
   ]
  },
  {
   "attachments": {},
   "cell_type": "markdown",
   "metadata": {},
   "source": [
    "Results show the highest purity score was achieved with Manhattan distance, which had a purity score of 33.57%. This suggests that the clusters generated using Manhattan distance were more homogeneous and separated than those generated using Euclidean and Chebyshev distances.\n",
    "\n",
    "It's important to note that the purity scores above are quite low, and suggest that the clustering results may not be very accurate. "
   ]
  },
  {
   "attachments": {},
   "cell_type": "markdown",
   "metadata": {},
   "source": [
    "### Analysis of Hierachical Clustering "
   ]
  },
  {
   "cell_type": "code",
   "execution_count": null,
   "metadata": {},
   "outputs": [
    {
     "name": "stdout",
     "output_type": "stream",
     "text": [
      "Hierachical_clustering_purity_score: 0.339\n"
     ]
    }
   ],
   "source": [
    "# Class Matrix\n",
    "y_true_hc = df['clue_small_area']\n",
    "\n",
    "# Perform hierachical clustering with optimal_k value\n",
    "hc = AgglomerativeClustering(n_clusters = optimal_k)\n",
    "\n",
    "# Fit and predict on the data\n",
    "y_pred_hc = hc.fit_predict(d)\n",
    "\n",
    "# Save the predictions as a column\n",
    "d['y_pred_hc'] = y_pred_hc\n",
    "\n",
    "# Calculate Purity Score\n",
    "def purity_score(y_true_hc, y_pred_hc):\n",
    "    contingency_matrix = metrics.cluster.contingency_matrix(y_true_hc, y_pred_hc)\n",
    "    return np.sum(np.amax(contingency_matrix, axis=0)) / np.sum(contingency_matrix) \n",
    "\n",
    "print('Hierachical Clustering Purity Score: %0.3f' % purity_score(y_true_hc, y_pred_hc))"
   ]
  },
  {
   "attachments": {},
   "cell_type": "markdown",
   "metadata": {},
   "source": [
    "The purity score for the hierarchical clustering algorithm is 0.339, while the purity score for the K-means clustering algorithm is 0.339.\n",
    "\n",
    "Comparing the two purity scores, we can see that the K-means clustering algorithm has a higher purity score, indicating that it produces a more pure clustering result. This is because K-means clustering is generally better suited for datasets with well-defined clusters and can produce tighter, more compact clusters compared to hierarchical clustering."
   ]
  }
 ],
 "metadata": {
  "kernelspec": {
   "display_name": "my_env2",
   "language": "python",
   "name": "python3"
  },
  "language_info": {
   "codemirror_mode": {
    "name": "ipython",
    "version": 3
   },
   "file_extension": ".py",
   "mimetype": "text/x-python",
   "name": "python",
   "nbconvert_exporter": "python",
   "pygments_lexer": "ipython3",
   "version": "3.11.4"
  },
  "orig_nbformat": 4
 },
 "nbformat": 4,
 "nbformat_minor": 2
}
